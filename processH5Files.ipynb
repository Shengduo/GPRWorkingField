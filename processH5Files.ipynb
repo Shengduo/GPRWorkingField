{
 "cells": [
  {
   "cell_type": "code",
   "execution_count": 38,
   "metadata": {},
   "outputs": [],
   "source": [
    "# import h5 reader\n",
    "import h5py\n",
    "import numpy as np\n",
    "h5_file = '/Users/shengduoliu/Pylith_V2.0/pylith-2.2.2-darwin-10.13.6/src/pylith-2.2.2/examples/3d/Vito/usualSample/output2/h5Outputs/DRS1_1.5Load17_Vw1.5_fw0.1_theta0.08-fault.h5'\n",
    "f = h5py.File(h5_file, 'r')"
   ]
  },
  {
   "cell_type": "code",
   "execution_count": 59,
   "metadata": {},
   "outputs": [
    {
     "name": "stdout",
     "output_type": "stream",
     "text": [
      "time.shape:  (119,)\n"
     ]
    }
   ],
   "source": [
    "# Get time\n",
    "time = np.array(f['time']).reshape([-1])\n",
    "time = time - np.min(time)\n",
    "nOfTSteps = time.shape[0]\n",
    "\n",
    "# Get Slip rates\n",
    "SlipRates = np.array(f['vertex_fields']['slip_rate'])\n",
    "Vx = SlipRates[:, :, 0].transpose()\n",
    "Vy = SlipRates[:, :, 1].transpose()\n",
    "nOfNodes = Vx.shape[0]\n",
    "\n",
    "# Find the Fourier coefficients\n",
    "FourierTerms = 16\n",
    "T = np.max(time)\n",
    "\n",
    "# Compute the Fourier terms\n",
    "Ks = np.array(range(FourierTerms))\n",
    "coskPiTt = np.cos(Ks.reshape([-1, 1]) * np.pi / T * time)\n",
    "VxcoskPiTt = np.concatenate([coskPiTt * Vxi.reshape([1, -1]) for Vxi in Vx], 0)\n",
    "\n",
    "# Compute the fourier coefficients\n",
    "print('time.shape: ', time.shape)\n",
    "Observations = np.trapz(VxcoskPiTt, x=time)"
   ]
  },
  {
   "cell_type": "code",
   "execution_count": 61,
   "metadata": {},
   "outputs": [
    {
     "data": {
      "text/plain": [
       "(47616,)"
      ]
     },
     "execution_count": 61,
     "metadata": {},
     "output_type": "execute_result"
    }
   ],
   "source": [
    "Observations.shape"
   ]
  },
  {
   "cell_type": "code",
   "execution_count": 45,
   "metadata": {},
   "outputs": [
    {
     "name": "stdout",
     "output_type": "stream",
     "text": [
      "119\n",
      "119\n",
      "119\n",
      "119\n",
      "119\n",
      "119\n",
      "119\n",
      "119\n",
      "119\n",
      "119\n",
      "119\n",
      "119\n",
      "119\n",
      "119\n",
      "119\n",
      "119\n"
     ]
    }
   ],
   "source": [
    "for i in coskPiTt:\n",
    "    print(i.shape[0])"
   ]
  },
  {
   "cell_type": "code",
   "execution_count": 19,
   "metadata": {},
   "outputs": [
    {
     "data": {
      "text/plain": [
       "(119, 2976, 3)"
      ]
     },
     "execution_count": 19,
     "metadata": {},
     "output_type": "execute_result"
    }
   ],
   "source": [
    "v = np.array(f['vertex_fields']['slip_rate'])\n",
    "v.shape"
   ]
  },
  {
   "cell_type": "code",
   "execution_count": 20,
   "metadata": {},
   "outputs": [
    {
     "data": {
      "text/plain": [
       "array([[[ 0.00000000e+00,  0.00000000e+00,  0.00000000e+00],\n",
       "        [ 0.00000000e+00,  0.00000000e+00,  0.00000000e+00],\n",
       "        [ 0.00000000e+00,  0.00000000e+00,  0.00000000e+00],\n",
       "        ...,\n",
       "        [ 0.00000000e+00,  0.00000000e+00,  0.00000000e+00],\n",
       "        [ 0.00000000e+00,  0.00000000e+00,  0.00000000e+00],\n",
       "        [ 0.00000000e+00,  0.00000000e+00,  0.00000000e+00]],\n",
       "\n",
       "       [[ 3.82009980e-06, -2.51043170e-14,  8.67360871e-22],\n",
       "        [ 3.82009840e-06,  3.25609626e-14, -1.08420307e-21],\n",
       "        [ 3.82009607e-06,  2.10998685e-14, -1.51788275e-21],\n",
       "        ...,\n",
       "        [ 3.82008960e-06, -1.72044648e-14, -2.16840435e-22],\n",
       "        [ 3.82009799e-06,  4.07680125e-14, -4.33682523e-22],\n",
       "        [ 3.82010054e-06, -2.98239872e-14,  8.67361576e-22]],\n",
       "\n",
       "       [[ 3.82004958e-06,  5.55840225e-14, -8.67359819e-22],\n",
       "        [ 3.82005327e-06,  1.55064501e-14, -4.25254733e-28],\n",
       "        [ 3.82005464e-06, -1.43306496e-14, -1.95809966e-28],\n",
       "        ...,\n",
       "        [ 3.82005984e-06, -1.25930115e-14,  1.30104261e-21],\n",
       "        [ 3.82004781e-06,  2.23085909e-14, -2.16841339e-22],\n",
       "        [ 3.82005694e-06,  2.17244898e-34,  1.30104261e-21]],\n",
       "\n",
       "       ...,\n",
       "\n",
       "       [[ 2.45747875e+00,  2.68519360e-01, -8.46349190e-14],\n",
       "        [ 2.50617357e+00,  1.53350600e-01,  8.49249361e-14],\n",
       "        [ 2.43575565e+00,  1.34328131e-01,  2.22990526e-14],\n",
       "        ...,\n",
       "        [ 4.62463065e+00,  1.73606936e-01,  3.84266162e-14],\n",
       "        [ 3.02732940e+00,  5.55732297e-02, -5.45501712e-14],\n",
       "        [ 7.14567335e+00,  1.51820842e+00, -1.30279813e-15]],\n",
       "\n",
       "       [[ 2.20276561e+00, -4.76985069e-02,  3.10950577e-14],\n",
       "        [ 2.07297201e+00,  7.66321965e-02, -2.50663315e-14],\n",
       "        [ 2.17986600e+00,  6.02201727e-02, -7.04588157e-14],\n",
       "        ...,\n",
       "        [ 4.36117267e+00,  2.22663246e-01,  3.86594889e-15],\n",
       "        [ 2.93661082e+00,  5.39316961e-02, -1.53753132e-14],\n",
       "        [ 5.59638212e+00,  9.03873981e-01,  1.72660492e-15]],\n",
       "\n",
       "       [[ 2.09439944e+00,  1.03014281e-01, -3.80528997e-14],\n",
       "        [ 2.08711396e+00,  1.02728113e-01,  4.22027333e-14],\n",
       "        [ 1.97809819e+00,  9.17342439e-02, -8.18257662e-15],\n",
       "        ...,\n",
       "        [ 3.85741254e+00,  1.51538995e-01, -6.59379600e-14],\n",
       "        [ 2.53269290e+00,  1.36773314e-01,  1.35514309e-14],\n",
       "        [ 6.16023893e+00,  1.15370846e+00, -2.37326438e-15]]])"
      ]
     },
     "execution_count": 20,
     "metadata": {},
     "output_type": "execute_result"
    }
   ],
   "source": [
    "v"
   ]
  },
  {
   "cell_type": "code",
   "execution_count": null,
   "metadata": {},
   "outputs": [],
   "source": []
  }
 ],
 "metadata": {
  "kernelspec": {
   "display_name": "Python 3",
   "language": "python",
   "name": "python3"
  },
  "language_info": {
   "codemirror_mode": {
    "name": "ipython",
    "version": 3
   },
   "file_extension": ".py",
   "mimetype": "text/x-python",
   "name": "python",
   "nbconvert_exporter": "python",
   "pygments_lexer": "ipython3",
   "version": "3.8.5"
  }
 },
 "nbformat": 4,
 "nbformat_minor": 4
}
