{
 "cells": [
  {
   "cell_type": "code",
   "execution_count": 16,
   "metadata": {},
   "outputs": [],
   "source": [
    "# import h5 reader\n",
    "import h5py\n",
    "import numpy as np\n",
    "work_path = \"/home/shengduo/pylith-developer/build/debug/pylith-nonRegSlipLawWithVaryingB/examples/bar_shearwave/quad4/\"\n",
    "h5_path = work_path + \"output/fault/\""
   ]
  },
  {
   "cell_type": "code",
   "execution_count": 17,
   "metadata": {},
   "outputs": [],
   "source": [
    "# Function getObservations:\n",
    "def getObservations(h5_path, input_set, FourierTerms):\n",
    "    Observations = []\n",
    "    # Loop through all Inputs\n",
    "    for input_ele in input_set:\n",
    "        # Open the file\n",
    "        h5_file = h5_path + \"A\" + str(input_ele[0]) + \"_B\" + str(input_ele[1]) + \"-fault.h5\"\n",
    "        f = h5py.File(h5_file, 'r')\n",
    "        \n",
    "        # Get time\n",
    "        time = np.array(f['time']).reshape([-1])\n",
    "        time = time - np.min(time)\n",
    "        nOfTSteps = time.shape[0]\n",
    "\n",
    "        # Get Slip rates\n",
    "        SlipRates = np.array(f['vertex_fields']['slip_rate'])\n",
    "        Vx = SlipRates[:, :, 0].transpose()\n",
    "        Vy = SlipRates[:, :, 1].transpose()\n",
    "        nOfNodes = Vx.shape[0]\n",
    "\n",
    "        # Find the Fourier coefficients\n",
    "        FourierTerms = 16\n",
    "        T = np.max(time)\n",
    "\n",
    "        # Compute the Fourier terms\n",
    "        Ks = np.array(range(FourierTerms))\n",
    "        coskPiTt = np.cos(Ks.reshape([-1, 1]) * np.pi / T * time)\n",
    "        VxcoskPiTt = np.concatenate([coskPiTt * Vxi.reshape([1, -1]) for Vxi in Vx], 0)\n",
    "\n",
    "        # Compute the fourier coefficients\n",
    "        # print('time.shape: ', time.shape)\n",
    "        observation = np.trapz(VxcoskPiTt, x=time)\n",
    "        \n",
    "        # Append the result from this file\n",
    "        Observations.append(observation)\n",
    "    return Observations"
   ]
  },
  {
   "cell_type": "code",
   "execution_count": 32,
   "metadata": {},
   "outputs": [],
   "source": [
    "# Function runCases\n",
    "def runCases(work_path, input_set):\n",
    "    shell_path = work_path + \"RunJobsJP.sh\"\n",
    "    shellRead = open(shell_path, 'r')\n",
    "    list_of_lines = shellRead.readlines()\n",
    "    shellRead.close()\n",
    "    \n",
    "    AA = [ele[0] for ele in input_set]\n",
    "    BB = [ele[1] for ele in input_set]\n",
    "    \n",
    "    list_of_lines[9] = \"AA=\" + str(tuple(AA)).replace(',', '') + \"\\n\"\n",
    "    list_of_lines[10] = \"BB=\" + str(tuple(BB)).replace(',', '') + \"\\n\"\n",
    "\n",
    "    shellWrite = open(shell_path, 'w')\n",
    "    shellWrite.writelines(list_of_lines)\n",
    "    shellWrite.close()\n",
    "    \n",
    "    # Run the cases\n",
    "    print('Shell path: ', shell_path)\n",
    "    !source $shell_path\n",
    "    \n",
    "    return"
   ]
  },
  {
   "cell_type": "code",
   "execution_count": 33,
   "metadata": {},
   "outputs": [
    {
     "name": "stdout",
     "output_type": "stream",
     "text": [
      "Shell path:  /home/shengduo/pylith-developer/build/debug/pylith-nonRegSlipLawWithVaryingB/examples/bar_shearwave/quad4/RunJobsJP.sh\n",
      "Running case A0.001_B0.002\n",
      "Finished in 12 s!\n",
      "\n",
      "Running case A0.003_B0.004\n",
      "Finished in 13 s!\n",
      "\n",
      "/home/shengduo/InverseProblems/GPRWorkingField\n"
     ]
    }
   ],
   "source": [
    "# Example of getting observations\n",
    "AA = [0.001, 0.003]\n",
    "BB = [0.002, 0.004]\n",
    "\n",
    "# Get input set\n",
    "input_set = [[AA[i], BB[i]] for i in range(len(AA))]\n",
    "\n",
    "# Run the cases\n",
    "runCases(work_path, input_set)\n",
    "\n",
    "# Get observations\n",
    "res = getObservations(h5_path, input_set, 16)"
   ]
  },
  {
   "cell_type": "code",
   "execution_count": 34,
   "metadata": {},
   "outputs": [
    {
     "data": {
      "text/plain": [
       "[array([-276.72222533,    9.21417284,    9.28709317,    9.03502741,\n",
       "           9.01451615,    9.00146222,    8.60317807,    8.54807941,\n",
       "           8.53598392,    7.83240749,    8.08698523,    7.65785586,\n",
       "           7.0987034 ,    7.40963169,    6.62068071,    6.37692284,\n",
       "        -276.2554538 ,    9.69130499,    9.73530519,    9.47562458,\n",
       "           9.40846043,    9.37064061,    8.91104473,    8.81697552,\n",
       "           8.72762581,    7.98022883,    8.14300881,    7.66002745,\n",
       "           7.01578593,    7.25178855,    6.38254256,    6.07746384,\n",
       "        -276.72222533,    9.21417284,    9.28709317,    9.03502741,\n",
       "           9.01451615,    9.00146222,    8.60317807,    8.54807941,\n",
       "           8.53598392,    7.83240749,    8.08698523,    7.65785586,\n",
       "           7.0987034 ,    7.40963169,    6.62068071,    6.37692284]),\n",
       " array([-274.96340531,   10.8731168 ,   11.02632182,   10.64961171,\n",
       "          10.70580393,   10.53617546,   10.17650899,    9.99433927,\n",
       "           9.95847399,    9.07379865,    9.40056394,    8.61822678,\n",
       "           8.15666249,    8.1969579 ,    7.21958238,    6.90003591,\n",
       "        -274.51965235,   11.37213454,   11.44682306,   11.10314027,\n",
       "          11.05822075,   10.90096039,   10.4208944 ,   10.23411864,\n",
       "          10.05794584,    9.16302722,    9.32992463,    8.53060764,\n",
       "           7.91218646,    7.91592445,    6.79279216,    6.44976192,\n",
       "        -274.96340531,   10.8731168 ,   11.02632182,   10.64961171,\n",
       "          10.70580393,   10.53617546,   10.17650899,    9.99433927,\n",
       "           9.95847399,    9.07379865,    9.40056394,    8.61822678,\n",
       "           8.15666249,    8.1969579 ,    7.21958238,    6.90003591])]"
      ]
     },
     "execution_count": 34,
     "metadata": {},
     "output_type": "execute_result"
    }
   ],
   "source": [
    "res"
   ]
  },
  {
   "cell_type": "code",
   "execution_count": null,
   "metadata": {},
   "outputs": [],
   "source": []
  }
 ],
 "metadata": {
  "kernelspec": {
   "display_name": "Python 3 (ipykernel)",
   "language": "python",
   "name": "python3"
  },
  "language_info": {
   "codemirror_mode": {
    "name": "ipython",
    "version": 3
   },
   "file_extension": ".py",
   "mimetype": "text/x-python",
   "name": "python",
   "nbconvert_exporter": "python",
   "pygments_lexer": "ipython3",
   "version": "3.9.12"
  }
 },
 "nbformat": 4,
 "nbformat_minor": 4
}
