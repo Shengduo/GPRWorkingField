{
 "cells": [
  {
   "cell_type": "markdown",
   "metadata": {},
   "source": [
    "# Try gaussian regression on parameters of a synthetic data set"
   ]
  },
  {
   "cell_type": "code",
   "execution_count": 9,
   "id": "2a18113b",
   "metadata": {},
   "outputs": [],
   "source": [
    "# Import packages\n",
    "import numpy as np\n",
    "import scipy.io as sio\n",
    "\n",
    "# Import Gaussian-regression related functions\n",
    "from sklearn.gaussian_process import GaussianProcessRegressor\n",
    "from sklearn.gaussian_process.kernels import RBF\n",
    "\n",
    "# Pre-process the data\n",
    "from sklearn import preprocessing\n",
    "\n",
    "# Plot figure\n",
    "from matplotlib import pyplot as plt\n",
    "from matplotlib import cm\n",
    "import matplotlib\n",
    "from matplotlib.ticker import LinearLocator\n",
    "matplotlib.rcParams['mathtext.fontset'] = 'stix'\n",
    "matplotlib.rcParams['font.family'] = 'STIXGeneral'"
   ]
  },
  {
   "cell_type": "code",
   "execution_count": 23,
   "id": "60261f42",
   "metadata": {},
   "outputs": [],
   "source": [
    "AA = [0.002, 0.006]\n",
    "BB = [0.009, 0.013]\n",
    "\n",
    "# Path to the shell file\n",
    "path_to_shell_file = '/home/shengduo/pylith-developer/build/debug/pylith-nonRegSlipLawWithVaryingB/examples/bar_shearwave/quad4/RunJobsJP.sh'\n",
    "shellRead = open(path_to_shell_file, 'r')\n",
    "list_of_lines = shellRead.readlines()\n",
    "shellRead.close()\n",
    "\n",
    "list_of_lines[9] = \"AA=\" + str(tuple(AA)).replace(',', '') + \"\\n\"\n",
    "list_of_lines[10] = \"BB=\" + str(tuple(BB)).replace(',', '') + \"\\n\"\n",
    "\n",
    "shellWrite = open(path_to_shell_file, 'w')\n",
    "shellWrite.writelines(list_of_lines)\n",
    "shellWrite.close()\n"
   ]
  },
  {
   "cell_type": "code",
   "execution_count": 22,
   "id": "4a71b033",
   "metadata": {},
   "outputs": [
    {
     "data": {
      "text/plain": [
       "'(0.002 0.006)'"
      ]
     },
     "execution_count": 22,
     "metadata": {},
     "output_type": "execute_result"
    }
   ],
   "source": [
    "str(tuple(AA)).replace(',', '')"
   ]
  },
  {
   "cell_type": "code",
   "execution_count": 17,
   "id": "2b998d93",
   "metadata": {},
   "outputs": [
    {
     "data": {
      "text/plain": [
       "'AA=(0.003 0.007)\\n'"
      ]
     },
     "execution_count": 17,
     "metadata": {},
     "output_type": "execute_result"
    }
   ],
   "source": [
    "list_of_lines[9]"
   ]
  },
  {
   "cell_type": "code",
   "execution_count": 11,
   "id": "53767704",
   "metadata": {},
   "outputs": [
    {
     "name": "stdout",
     "output_type": "stream",
     "text": [
      "Running case A0.003_B0.009\n",
      "Finished in 12 s!\n",
      "\n",
      "Running case A0.007_B0.013\n",
      "Finished in 12 s!\n",
      "\n",
      "/home/shengduo/InverseProblems/GPRWorkingField\n"
     ]
    }
   ],
   "source": [
    "!source /home/shengduo/pylith-developer/build/debug/pylith-nonRegSlipLawWithVaryingB/examples/bar_shearwave/quad4/RunJobsJP.sh"
   ]
  },
  {
   "cell_type": "code",
   "execution_count": 87,
   "metadata": {},
   "outputs": [],
   "source": [
    "def GPRPredictor(train_path, test_path, test_idx = 0, si_eta = 0.1):\n",
    "    # Load training data set\n",
    "    loaded = sio.loadmat(train_path)\n",
    "    U = loaded['Us']\n",
    "    Y = loaded['observations']\n",
    "\n",
    "    U_scaler = preprocessing.StandardScaler()\n",
    "    U_scaler.fit(U)\n",
    "    U_scaled = U_scaler.transform(U)\n",
    "\n",
    "    Y_scaler = preprocessing.StandardScaler()\n",
    "    Y_scaler.fit(Y)\n",
    "    Y_scaled = Y_scaler.transform(Y)\n",
    "\n",
    "    # Load testing data set\n",
    "    loaded = sio.loadmat(test_path)\n",
    "    U_test = loaded['Us']\n",
    "    Y_test = loaded['observations']\n",
    "\n",
    "    U_test_scaled = U_scaler.transform(U_test)\n",
    "    Y_test_scaled = Y_scaler.transform(Y_test)\n",
    "    \n",
    "    # Train the gaussian_process\n",
    "    kernel = 1 * RBF(length_scale=1.0, length_scale_bounds=(1e-1, 1e2))\n",
    "    gaussian_process = GaussianProcessRegressor(kernel=kernel, n_restarts_optimizer=9)\n",
    "    gaussian_process.fit(U_scaled, Y_scaled)\n",
    "    # gaussian_process.kernel_\n",
    "    \n",
    "    # Calculate U_plot\n",
    "    minU = np.min(U, axis = 0)\n",
    "    maxU = np.max(U, axis = 0)\n",
    "    nOfGridPoints = 100\n",
    "\n",
    "    xis = []\n",
    "    for i in range(minU.shape[0]):\n",
    "        xis.append(np.linspace(minU[i], maxU[i], nOfGridPoints))\n",
    "\n",
    "    # Generate grid and draw predictions\n",
    "    UPlotGrid = np.meshgrid(xis[0], xis[1])\n",
    "    UPlotGrid = np.stack(UPlotGrid, axis = 2)\n",
    "    UPlotGridFat = UPlotGrid.reshape([nOfGridPoints * nOfGridPoints, maxU.shape[0]])\n",
    "    UPlotGridFat_scaled = U_scaler.transform(UPlotGridFat)\n",
    "    YPlotGridFat_scaled = gaussian_process.predict(UPlotGridFat_scaled)\n",
    "    YPlotGrid_scaled = YPlotGridFat_scaled.reshape([nOfGridPoints, nOfGridPoints, Y_scaled.shape[1]])\n",
    "    \n",
    "    # Test\n",
    "    u = U_test_scaled[test_idx, :]\n",
    "    y = Y_test_scaled[test_idx, :]\n",
    "\n",
    "    # Compute \\Phi(u) = \\|y - G_N(u)\\|^2\n",
    "    PhiPlot_grid = np.linalg.norm(y - YPlotGrid_scaled, axis = 2) ** 2\n",
    "\n",
    "    # Compute pdf(u) = exp(-\\Phi(u))\n",
    "    pdf_grid = np.exp(-PhiPlot_grid / si_eta)\n",
    "    pdf_grid = pdf_grid / np.max(pdf_grid)\n",
    "\n",
    "    # Plot figure\n",
    "    from matplotlib import pyplot as plt\n",
    "    from matplotlib import cm\n",
    "    import matplotlib\n",
    "    from matplotlib.ticker import LinearLocator\n",
    "    matplotlib.rcParams['mathtext.fontset'] = 'stix'\n",
    "    matplotlib.rcParams['font.family'] = 'STIXGeneral'\n",
    "\n",
    "    fig, ax = plt.subplots(1, 1, figsize = (7, 6), dpi = 100)\n",
    "\n",
    "    cp = ax.contourf(UPlotGrid[:, :, 0], UPlotGrid[:, :, 1], pdf_grid)\n",
    "    \n",
    "    cbar = fig.colorbar(cp)\n",
    "    ax.scatter(U[:, 0], U[:, 1], color='white')\n",
    "    ax.set_xlabel('$u_1$', fontsize = 20)\n",
    "    ax.set_ylabel('$u_2$', fontsize = 20)\n",
    "    cbar.set_label('$\\exp(-\\\\Phi(u))$', fontsize = 20)\n",
    "\n",
    "    # Add a color bar which maps values to colors.\n",
    "    ind = np.unravel_index(np.argmax(pdf_grid, axis=None), pdf_grid.shape)\n",
    "    print(\"True value of $(u_1, u_2)$: \", U_scaler.inverse_transform(u.reshape([1, -1])).reshape(-1))\n",
    "    print(\"Maximum likelihood estimate of $(u_1, u_2)$: \", UPlotGrid[ind])\n",
    "\n",
    "    plt.show()\n",
    "    return U_scaler, Y_scaler, gaussian_process"
   ]
  },
  {
   "cell_type": "markdown",
   "metadata": {},
   "source": [
    "# First iteration"
   ]
  },
  {
   "cell_type": "code",
   "execution_count": 95,
   "metadata": {},
   "outputs": [
    {
     "name": "stdout",
     "output_type": "stream",
     "text": [
      "True value of $(u_1, u_2)$:  [0.007 0.013]\n",
      "Maximum likelihood estimate of $(u_1, u_2)$:  [0.00773737 0.01206061]\n"
     ]
    },
    {
     "data": {
      "image/png": "[encoded data removed]",
      "text/plain": [
       "<Figure size 700x600 with 2 Axes>"
      ]
     },
     "metadata": {
      "needs_background": "light"
     },
     "output_type": "display_data"
    }
   ],
   "source": [
    "train_path1 = \"./data/trainGrid1102.mat\"\n",
    "test_path = \"./data/testGrid1102.mat\"\n",
    "\n",
    "U_scaler1, Y_scaler1, GP1 = GPRPredictor(train_path1, test_path, test_idx = 3, si_eta = 0.1)"
   ]
  },
  {
   "cell_type": "markdown",
   "metadata": {},
   "source": [
    "# Second iteration"
   ]
  },
  {
   "cell_type": "code",
   "execution_count": 96,
   "metadata": {},
   "outputs": [
    {
     "name": "stdout",
     "output_type": "stream",
     "text": [
      "True value of $(u_1, u_2)$:  [0.007 0.013]\n",
      "Maximum likelihood estimate of $(u_1, u_2)$:  [0.0069899 0.0130101]\n"
     ]
    },
    {
     "data": {
      "image/png": "[encoded data removed]",
      "text/plain": [
       "<Figure size 700x600 with 2 Axes>"
      ]
     },
     "metadata": {
      "needs_background": "light"
     },
     "output_type": "display_data"
    }
   ],
   "source": [
    "train_path2 = \"./data/trainGrid1102_1.mat\"\n",
    "test_path = \"./data/testGrid1102.mat\"\n",
    "\n",
    "U_scaler2, Y_scaler2, GP2 = GPRPredictor(train_path2, test_path, test_idx = 3, si_eta = 0.1)"
   ]
  },
  {
   "cell_type": "markdown",
   "metadata": {},
   "source": [
    "# Load training and testing data"
   ]
  },
  {
   "cell_type": "code",
   "execution_count": 89,
   "metadata": {},
   "outputs": [],
   "source": [
    "# Load training data set\n",
    "\n",
    "loaded = sio.loadmat(\"./data/trainGrid1102.mat\")\n",
    "U = loaded['Us']\n",
    "Y = loaded['observations']\n",
    "\n",
    "\n",
    "U_scaler = preprocessing.StandardScaler()\n",
    "U_scaler.fit(U)\n",
    "U_scaled = U_scaler.transform(U)\n",
    "\n",
    "Y_scaler = preprocessing.StandardScaler()\n",
    "Y_scaler.fit(Y)\n",
    "Y_scaled = Y_scaler.transform(Y)\n",
    "\n",
    "# Load testing data set\n",
    "loaded = sio.loadmat(\"./data/testGrid1102.mat\")\n",
    "U_test = loaded['Us']\n",
    "Y_test = loaded['observations']\n",
    "\n",
    "U_test_scaled = U_scaler.transform(U_test)\n",
    "Y_test_scaled = Y_scaler.transform(Y_test)"
   ]
  },
  {
   "cell_type": "code",
   "execution_count": 90,
   "metadata": {},
   "outputs": [
    {
     "data": {
      "text/plain": [
       "0.995**2 * RBF(length_scale=0.311)"
      ]
     },
     "execution_count": 90,
     "metadata": {},
     "output_type": "execute_result"
    }
   ],
   "source": [
    "# Train the gaussian_process\n",
    "kernel = 1 * RBF(length_scale=1.0, length_scale_bounds=(1e-1, 1e2))\n",
    "gaussian_process = GaussianProcessRegressor(kernel=kernel, n_restarts_optimizer=9)\n",
    "gaussian_process.fit(U_scaled, Y_scaled)\n",
    "gaussian_process.kernel_"
   ]
  },
  {
   "cell_type": "code",
   "execution_count": 91,
   "metadata": {},
   "outputs": [],
   "source": [
    "# Calculate U_plot\n",
    "minU = np.min(U, axis = 0)\n",
    "maxU = np.max(U, axis = 0)\n",
    "nOfGridPoints = 100\n",
    "\n",
    "xis = []\n",
    "for i in range(minU.shape[0]):\n",
    "    xis.append(np.linspace(minU[i], maxU[i], nOfGridPoints))\n",
    "\n",
    "# Generate grid and draw predictions\n",
    "UPlotGrid = np.meshgrid(xis[0], xis[1])\n",
    "UPlotGrid = np.stack(UPlotGrid, axis = 2)\n",
    "UPlotGridFat = UPlotGrid.reshape([nOfGridPoints * nOfGridPoints, maxU.shape[0]])\n",
    "UPlotGridFat_scaled = U_scaler.transform(UPlotGridFat)\n",
    "YPlotGridFat_scaled = gaussian_process.predict(UPlotGridFat_scaled)\n",
    "YPlotGrid_scaled = YPlotGridFat_scaled.reshape([nOfGridPoints, nOfGridPoints, Y_scaled.shape[1]])\n"
   ]
  },
  {
   "cell_type": "markdown",
   "metadata": {},
   "source": [
    "# Plot the predicted distribution for a test data point"
   ]
  },
  {
   "cell_type": "code",
   "execution_count": 92,
   "metadata": {},
   "outputs": [
    {
     "name": "stdout",
     "output_type": "stream",
     "text": [
      "True value of $(u_1, u_2)$:  [0.007 0.013]\n",
      "Maximum likelihood estimate of $(u_1, u_2)$:  [0.0079798 0.0119596]\n"
     ]
    },
    {
     "data": {
      "image/png": "[encoded data removed]",
      "text/plain": [
       "<Figure size 700x600 with 2 Axes>"
      ]
     },
     "metadata": {
      "needs_background": "light"
     },
     "output_type": "display_data"
    }
   ],
   "source": [
    "# Test\n",
    "test_idx = 3\n",
    "u = U_test_scaled[test_idx, :]\n",
    "y = Y_test_scaled[test_idx, :]\n",
    "si_eta = 0.1\n",
    "\n",
    "# Compute \\Phi(u) = \\|y - G_N(u)\\|^2\n",
    "PhiPlot_grid = np.linalg.norm(y - YPlotGrid_scaled, axis = 2) ** 2\n",
    "\n",
    "# Compute pdf(u) = exp(-\\Phi(u))\n",
    "pdf_grid = np.exp(-PhiPlot_grid / si_eta)\n",
    "\n",
    "# Plot figure\n",
    "from matplotlib import pyplot as plt\n",
    "from matplotlib import cm\n",
    "import matplotlib\n",
    "from matplotlib.ticker import LinearLocator\n",
    "matplotlib.rcParams['mathtext.fontset'] = 'stix'\n",
    "matplotlib.rcParams['font.family'] = 'STIXGeneral'\n",
    "\n",
    "fig, ax = plt.subplots(1, 1, figsize = (7, 6), dpi = 100)\n",
    "\n",
    "# Plot the surface.\n",
    "# surf = ax.plot_surface(UPlotGrid[:, :, 0], UPlotGrid[:, :, 1], pdf_grid, cmap=cm.coolwarm,\n",
    "#                        linewidth=0, antialiased=False)\n",
    "\n",
    "cp = ax.contourf(UPlotGrid[:, :, 0], UPlotGrid[:, :, 1], pdf_grid)\n",
    "\n",
    "# surf = ax.plot_surface(UPlotGrid[:, :, 0], UPlotGrid[:, :, 1], pdf_grid, rstride=1, cstride=1, cmap=cm.hsv, \\\n",
    "#   edgecolor='darkred', linewidth=0.1)\n",
    "cbar = fig.colorbar(cp)\n",
    "ax.scatter(U[:, 0], U[:, 1], color='white')\n",
    "ax.set_xlabel('$u_1$', fontsize = 20)\n",
    "ax.set_ylabel('$u_2$', fontsize = 20)\n",
    "cbar.set_label('$\\exp(-\\\\Phi(u))$', fontsize = 20)\n",
    "# ax.set_zlabel('Unnormalized $d\\mu(u)$', fontsize = 20)\n",
    "\n",
    "# plt.scatter(U.reshape([-1]), np.linalg.norm(y - Y, axis = 1) ** 2)\n",
    "\n",
    "# # Customize z axis\n",
    "# ax.zaxis.set_major_locator(LinearLocator(10))\n",
    "# # A StrMethodFormatter is used automatically\n",
    "# ax.zaxis.set_major_formatter('{x:.02f}')\n",
    "\n",
    "# Add a color bar which maps values to colors.\n",
    "# fig.colorbar(surf, shrink=0.5, aspect=5)\n",
    "ind = np.unravel_index(np.argmax(pdf_grid, axis=None), pdf_grid.shape)\n",
    "print(\"True value of $(u_1, u_2)$: \", U_scaler.inverse_transform(u.reshape([1, -1])).reshape(-1))\n",
    "print(\"Maximum likelihood estimate of $(u_1, u_2)$: \", UPlotGrid[ind])\n",
    "\n",
    "plt.show()"
   ]
  },
  {
   "cell_type": "code",
   "execution_count": null,
   "metadata": {},
   "outputs": [],
   "source": []
  },
  {
   "cell_type": "code",
   "execution_count": 42,
   "metadata": {},
   "outputs": [
    {
     "data": {
      "text/plain": [
       "array([0.00361616, 0.01357576])"
      ]
     },
     "execution_count": 42,
     "metadata": {},
     "output_type": "execute_result"
    }
   ],
   "source": [
    "UPlotGrid[ind]"
   ]
  },
  {
   "cell_type": "code",
   "execution_count": null,
   "metadata": {},
   "outputs": [],
   "source": []
  }
 ],
 "metadata": {
  "kernelspec": {
   "display_name": "Python 3",
   "language": "python",
   "name": "python3"
  },
  "language_info": {
   "codemirror_mode": {
    "name": "ipython",
    "version": 3
   },
   "file_extension": ".py",
   "mimetype": "text/x-python",
   "name": "python",
   "nbconvert_exporter": "python",
   "pygments_lexer": "ipython3",
   "version": "3.8.5"
  }
 },
 "nbformat": 4,
 "nbformat_minor": 5
}
